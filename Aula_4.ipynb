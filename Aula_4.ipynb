{
  "nbformat": 4,
  "nbformat_minor": 0,
  "metadata": {
    "colab": {
      "provenance": [],
      "authorship_tag": "ABX9TyOFZ+NgcrF00d81xhcFNM1R",
      "include_colab_link": true
    },
    "kernelspec": {
      "name": "python3",
      "display_name": "Python 3"
    },
    "language_info": {
      "name": "python"
    }
  },
  "cells": [
    {
      "cell_type": "markdown",
      "metadata": {
        "id": "view-in-github",
        "colab_type": "text"
      },
      "source": [
        "<a href=\"https://colab.research.google.com/github/RagnarLook15/rafael-02/blob/main/Aula_4.ipynb\" target=\"_parent\"><img src=\"https://colab.research.google.com/assets/colab-badge.svg\" alt=\"Open In Colab\"/></a>"
      ]
    },
    {
      "cell_type": "code",
      "execution_count": null,
      "metadata": {
        "id": "XvINKKPuMCcb"
      },
      "outputs": [],
      "source": []
    },
    {
      "cell_type": "markdown",
      "source": [],
      "metadata": {
        "id": "NfrL_eS5MEzg"
      }
    },
    {
      "cell_type": "markdown",
      "source": [
        "Exercício 5 AulaLP02)\n",
        "#na parte explicativa, o hashtag é um símbolo em linguagem MARKDOWN usado para formatar TÍTULO.\n",
        "\n",
        "\n"
      ],
      "metadata": {
        "id": "an8mDoeqMOVQ"
      }
    },
    {
      "cell_type": "code",
      "source": [],
      "metadata": {
        "id": "Ev5p2KRYREdA"
      },
      "execution_count": null,
      "outputs": []
    },
    {
      "cell_type": "code",
      "source": [
        "P = float(input(\"!Digite valor em polegas:\"))\n",
        "mm = P * 25.4\n",
        "print(mm)\n"
      ],
      "metadata": {
        "colab": {
          "base_uri": "https://localhost:8080/"
        },
        "id": "g3pIPijuMiBh",
        "outputId": "1226239a-0587-4eaf-9601-2d202361d4f8"
      },
      "execution_count": 1,
      "outputs": [
        {
          "output_type": "stream",
          "name": "stdout",
          "text": [
            "!Digite valor em polegas:2\n",
            "50.8\n"
          ]
        }
      ]
    }
  ]
}